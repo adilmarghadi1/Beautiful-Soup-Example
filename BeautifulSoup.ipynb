{
 "cells": [
  {
   "cell_type": "code",
   "execution_count": 1,
   "metadata": {},
   "outputs": [],
   "source": [
    "import requests"
   ]
  },
  {
   "cell_type": "code",
   "execution_count": 4,
   "metadata": {},
   "outputs": [],
   "source": [
    "from bs4 import BeautifulSoup"
   ]
  },
  {
   "cell_type": "code",
   "execution_count": 28,
   "metadata": {},
   "outputs": [],
   "source": [
    "webpage_response = requests.get('https://content.codecademy.com/courses/beautifulsoup/shellter.html')\n"
   ]
  },
  {
   "cell_type": "code",
   "execution_count": 29,
   "metadata": {},
   "outputs": [],
   "source": [
    "webpage = webpage_response.content"
   ]
  },
  {
   "cell_type": "code",
   "execution_count": 30,
   "metadata": {},
   "outputs": [],
   "source": [
    "soup = BeautifulSoup(webpage, 'html.parser')\n"
   ]
  },
  {
   "cell_type": "code",
   "execution_count": 36,
   "metadata": {},
   "outputs": [
    {
     "name": "stdout",
     "output_type": "stream",
     "text": [
      "<!DOCTYPE html>\n",
      "<html>\n",
      " <head>\n",
      "  <meta charset=\"utf-8\"/>\n",
      "  <title>\n",
      "   Turtle Shellter\n",
      "  </title>\n",
      "  <link href=\"https://fonts.googleapis.com/css?family=Poppins\" rel=\"stylesheet\"/>\n",
      "  <link href=\"style.css\" rel=\"stylesheet\" type=\"text/css\"/>\n",
      " </head>\n",
      " <body>\n",
      "  <div class=\"banner\">\n",
      "   <h1>\n",
      "    The Shellter\n",
      "   </h1>\n",
      "   <span class=\"brag\">\n",
      "    The #1 Turtle Adoption website!\n",
      "   </span>\n",
      "  </div>\n",
      "  <div class=\"about\">\n",
      "   <p class=\"text\">\n",
      "    Click to learn more about each turtle\n",
      "   </p>\n",
      "  </div>\n",
      "  <div class=\"grid\">\n",
      "   <div class=\"box adopt\">\n",
      "    <a class=\"more-info\" href=\"aesop.html\">\n",
      "     <img class=\"headshot\" src=\"aesop.png\"/>\n",
      "    </a>\n",
      "    <p>\n",
      "     Aesop\n",
      "    </p>\n",
      "   </div>\n",
      "   <div class=\"box adopt\">\n",
      "    <a class=\"more-info\" href=\"caesar.html\">\n",
      "     <img class=\"headshot\" src=\"caesar.png\"/>\n",
      "    </a>\n",
      "    <p>\n",
      "     Caesar\n",
      "    </p>\n",
      "   </div>\n",
      "   <div class=\"box adopt\">\n",
      "    <a class=\"more-info\" href=\"sulla.html\">\n",
      "     <img class=\"headshot\" src=\"sulla.png\"/>\n",
      "    </a>\n",
      "    <p>\n",
      "     Sulla\n",
      "    </p>\n",
      "   </div>\n",
      "   <div class=\"box adopt\">\n",
      "    <a class=\"more-info\" href=\"spyro.html\">\n",
      "     <img class=\"headshot\" src=\"spyro.png\"/>\n",
      "    </a>\n",
      "    <p>\n",
      "     Spyro\n",
      "    </p>\n",
      "   </div>\n",
      "   <div class=\"box adopt\">\n",
      "    <a class=\"more-info\" href=\"zelda.html\">\n",
      "     <img class=\"headshot\" src=\"zelda.png\"/>\n",
      "    </a>\n",
      "    <p>\n",
      "     Zelda\n",
      "    </p>\n",
      "   </div>\n",
      "   <div class=\"box adopt\">\n",
      "    <a class=\"more-info\" href=\"bandicoot.html\">\n",
      "     <img class=\"headshot\" src=\"bandicoot.png\"/>\n",
      "    </a>\n",
      "    <p>\n",
      "     Bandicoot\n",
      "    </p>\n",
      "   </div>\n",
      "   <div class=\"box adopt\">\n",
      "    <a class=\"more-info\" href=\"hal.html\">\n",
      "     <img class=\"headshot\" src=\"hal.png\"/>\n",
      "    </a>\n",
      "    <p>\n",
      "     Hal\n",
      "    </p>\n",
      "   </div>\n",
      "   <div class=\"box adopt\">\n",
      "    <a class=\"more-info\" href=\"mock.html\">\n",
      "     <img class=\"headshot\" src=\"mock.png\"/>\n",
      "    </a>\n",
      "    <p>\n",
      "     Mock\n",
      "    </p>\n",
      "   </div>\n",
      "   <div class=\"box adopt\">\n",
      "    <a class=\"more-info\" href=\"sparrow.html\">\n",
      "     <img class=\"headshot\" src=\"sparrow.png\"/>\n",
      "    </a>\n",
      "    <p>\n",
      "     Captain Sparrow\n",
      "    </p>\n",
      "   </div>\n",
      "  </div>\n",
      " </body>\n",
      "</html>\n",
      "\n"
     ]
    }
   ],
   "source": [
    "print(soup.prettify())"
   ]
  },
  {
   "cell_type": "code",
   "execution_count": 33,
   "metadata": {},
   "outputs": [
    {
     "name": "stdout",
     "output_type": "stream",
     "text": [
      "<p class=\"text\">Click to learn more about each turtle</p>\n"
     ]
    }
   ],
   "source": [
    "print(soup.p)"
   ]
  },
  {
   "cell_type": "code",
   "execution_count": null,
   "metadata": {},
   "outputs": [],
   "source": []
  },
  {
   "cell_type": "code",
   "execution_count": 34,
   "metadata": {},
   "outputs": [
    {
     "name": "stdout",
     "output_type": "stream",
     "text": [
      "Click to learn more about each turtle\n"
     ]
    }
   ],
   "source": [
    "print(soup.p.string)"
   ]
  },
  {
   "cell_type": "code",
   "execution_count": 37,
   "metadata": {},
   "outputs": [
    {
     "name": "stdout",
     "output_type": "stream",
     "text": [
      "\n",
      "\n",
      "<h1>The Shellter</h1>\n",
      "\n",
      "\n",
      "<span class=\"brag\">The #1 Turtle Adoption website!</span>\n",
      "\n",
      "\n"
     ]
    }
   ],
   "source": [
    "for child in soup.div.children:\n",
    "  print(child)"
   ]
  },
  {
   "cell_type": "code",
   "execution_count": 41,
   "metadata": {},
   "outputs": [
    {
     "name": "stdout",
     "output_type": "stream",
     "text": [
      "[<a class=\"more-info\" href=\"aesop.html\"><img class=\"headshot\" src=\"aesop.png\"/></a>, <a class=\"more-info\" href=\"caesar.html\"><img class=\"headshot\" src=\"caesar.png\"/></a>, <a class=\"more-info\" href=\"sulla.html\"><img class=\"headshot\" src=\"sulla.png\"/></a>, <a class=\"more-info\" href=\"spyro.html\"><img class=\"headshot\" src=\"spyro.png\"/></a>, <a class=\"more-info\" href=\"zelda.html\"><img class=\"headshot\" src=\"zelda.png\"/></a>, <a class=\"more-info\" href=\"bandicoot.html\"><img class=\"headshot\" src=\"bandicoot.png\"/></a>, <a class=\"more-info\" href=\"hal.html\"><img class=\"headshot\" src=\"hal.png\"/></a>, <a class=\"more-info\" href=\"mock.html\"><img class=\"headshot\" src=\"mock.png\"/></a>, <a class=\"more-info\" href=\"sparrow.html\"><img class=\"headshot\" src=\"sparrow.png\"/></a>]\n"
     ]
    }
   ],
   "source": [
    "turtle_links = soup.find_all(\"a\")\n",
    "print(turtle_links)"
   ]
  },
  {
   "cell_type": "code",
   "execution_count": null,
   "metadata": {},
   "outputs": [],
   "source": []
  },
  {
   "cell_type": "code",
   "execution_count": null,
   "metadata": {},
   "outputs": [],
   "source": []
  },
  {
   "cell_type": "code",
   "execution_count": null,
   "metadata": {},
   "outputs": [],
   "source": []
  }
 ],
 "metadata": {
  "kernelspec": {
   "display_name": "Python 3",
   "language": "python",
   "name": "python3"
  },
  "language_info": {
   "codemirror_mode": {
    "name": "ipython",
    "version": 3
   },
   "file_extension": ".py",
   "mimetype": "text/x-python",
   "name": "python",
   "nbconvert_exporter": "python",
   "pygments_lexer": "ipython3",
   "version": "3.7.6"
  }
 },
 "nbformat": 4,
 "nbformat_minor": 4
}
